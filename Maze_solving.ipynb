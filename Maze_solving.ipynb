{
 "cells": [
  {
   "cell_type": "code",
   "execution_count": 13,
   "metadata": {},
   "outputs": [],
   "source": [
    "def solution(layout):\n",
    "    w=len(layout[0])-1\n",
    "    h=len(layout)-1\n",
    "    c=True\n",
    "    for i in layout:\n",
    "        for j in i:\n",
    "            b=j==0\n",
    "            c=c and b\n",
    "            \n",
    "    if c==True:\n",
    "        return w+h+1\n",
    "    \n",
    "    def Find_zeros(layout):\n",
    "        pos=[]\n",
    "        for i in range(h+1):\n",
    "            for j in range(w+1):\n",
    "                if layout[i][j]==0:\n",
    "                    pos.append([i,j])\n",
    "        return pos\n",
    "    \n",
    "    def decide_f(pos,data = None):\n",
    "        a=[]\n",
    "        for drx in ['r','d','u','l']:\n",
    "            i=step(pos,drx)[0]\n",
    "            j=step(pos,drx)[1]\n",
    "            if (i>=0 and j>=0) and (i<=h and j<=w) and data[i][j]==0:\n",
    "                a.append(drx)\n",
    "        if len(a)==0:\n",
    "            return -1\n",
    "        else:\n",
    "            return a\n",
    "\n",
    "    def step(x,dirx,z=1):\n",
    "        if dirx == 'r':\n",
    "            y=[0,z]\n",
    "        elif dirx=='d':\n",
    "            y=[z,0]\n",
    "        elif dirx=='u':\n",
    "            y=[-z,0]\n",
    "        elif dirx=='l':\n",
    "            y=[0,-z]\n",
    "        else:\n",
    "            y=[0,0]\n",
    "        return list(map((lambda x,y:x+y),x,y)) # returns new position\n",
    "\n",
    "    def shortest_path(layout):\n",
    "        from copy import deepcopy\n",
    "        a=deepcopy(layout)\n",
    "        i,j=0,0\n",
    "        steps=[([0,0],'s')]\n",
    "        while len(steps)>0:\n",
    "            level=len(steps)\n",
    "            for l in range(level):\n",
    "                pp=steps[0][0]          # present pos\n",
    "                i=pp[0]\n",
    "                j=pp[1]\n",
    "                if i==h and j==w:     #check if reached end pos\n",
    "                    return len(steps[-1][1])\n",
    "                if decide_f(pp,a)!=-1 and a[i][j]!=2:\n",
    "                    for drx in decide_f(pp,a):\n",
    "                        temp=step(pp,drx)\n",
    "                        steps.append((temp,(steps[0][1]+drx)))\n",
    "                    a[i][j]=2\n",
    "                    steps.pop(0)[0]\n",
    "                else:\n",
    "                    a[i][j]=3\n",
    "                    steps.pop(0)[0]\n",
    "        return w*h+1               # if could not reach the end will return max value\n",
    "\n",
    "    pos=Find_zeros(layout)\n",
    "    def alter(layout):\n",
    "        cp=[]         #checked points\n",
    "        SCAP=[]   #short_cut_in_altered_path\n",
    "        for x in pos:\n",
    "            for drx in ['r','d','u','l']:\n",
    "                d=drx\n",
    "                i=step(x,drx)[0]\n",
    "                j=step(x,drx)[1]\n",
    "                if (0<=i<=h) and (0<=j<=w) and layout[i][j]==1 and ([i,j] not in cp):\n",
    "                    cp.append([i,j])\n",
    "                    itr=0\n",
    "                    for drx in ['r','d','u','l']:\n",
    "                        ii=step([i,j],drx)[0]\n",
    "                        jj=step([i,j],drx)[1]\n",
    "                        if (0<=ii<=h) and (0<=jj<=w) and layout[ii][jj]==0 and [ii,jj]!=x and itr==0:\n",
    "                            itr+=1\n",
    "                            layout[i][j]=0\n",
    "                            SCAP.append(shortest_path(layout))\n",
    "                            layout[i][j]=1\n",
    "        return min(SCAP)\n",
    "    return alter(layout)"
   ]
  },
  {
   "cell_type": "code",
   "execution_count": 14,
   "metadata": {},
   "outputs": [
    {
     "data": {
      "text/plain": [
       "7"
      ]
     },
     "execution_count": 14,
     "metadata": {},
     "output_type": "execute_result"
    }
   ],
   "source": [
    "solution([[0, 1, 1, 1],[0, 1, 0, 0],[1, 0, 1, 0],[1, 1, 0, 0]])"
   ]
  },
  {
   "cell_type": "code",
   "execution_count": null,
   "metadata": {},
   "outputs": [],
   "source": []
  }
 ],
 "metadata": {
  "kernelspec": {
   "display_name": "Python 3",
   "language": "python",
   "name": "python3"
  },
  "language_info": {
   "codemirror_mode": {
    "name": "ipython",
    "version": 3
   },
   "file_extension": ".py",
   "mimetype": "text/x-python",
   "name": "python",
   "nbconvert_exporter": "python",
   "pygments_lexer": "ipython3",
   "version": "3.7.9"
  }
 },
 "nbformat": 4,
 "nbformat_minor": 4
}
